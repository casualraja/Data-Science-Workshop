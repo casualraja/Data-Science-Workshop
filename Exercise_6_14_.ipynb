{
  "nbformat": 4,
  "nbformat_minor": 0,
  "metadata": {
    "colab": {
      "name": "Exercise 6.14:.ipynb",
      "provenance": [],
      "collapsed_sections": [],
      "authorship_tag": "ABX9TyPCIQkGy19KSCk8l/tGuD5h",
      "include_colab_link": true
    },
    "kernelspec": {
      "name": "python3",
      "display_name": "Python 3"
    }
  },
  "cells": [
    {
      "cell_type": "markdown",
      "metadata": {
        "id": "view-in-github",
        "colab_type": "text"
      },
      "source": [
        "<a href=\"https://colab.research.google.com/github/casualraja/Data-Science-Workshop/blob/Exercises/Exercise_6_14_.ipynb\" target=\"_parent\"><img src=\"https://colab.research.google.com/assets/colab-badge.svg\" alt=\"Open In Colab\"/></a>"
      ]
    },
    {
      "cell_type": "markdown",
      "metadata": {
        "id": "65p-rDH_By8d",
        "colab_type": "text"
      },
      "source": [
        "## Exercise 6.14: Saving and Loading a Model"
      ]
    },
    {
      "cell_type": "markdown",
      "metadata": {
        "id": "zWvx53fmCLvE",
        "colab_type": "text"
      },
      "source": [
        "In this exercise, we will train a simple model and use it for prediction. You will then proceed to save the model and then load it back in. You will use the loaded model for a second prediction, and then compare the predictions from the first model to those from the second model."
      ]
    },
    {
      "cell_type": "code",
      "metadata": {
        "id": "yewaLPaSCAcw",
        "colab_type": "code",
        "colab": {}
      },
      "source": [
        "# import dependencies\n",
        "import pandas as pd\n",
        "from sklearn.model_selection import train_test_split\n",
        "from sklearn.linear_model import LinearRegression"
      ],
      "execution_count": 0,
      "outputs": []
    },
    {
      "cell_type": "code",
      "metadata": {
        "id": "jdJMHG4aC7Iw",
        "colab_type": "code",
        "colab": {}
      },
      "source": [
        "#  reat the dataset\n",
        "_headers = ['CIC0', 'SM1', 'GATS1i', 'NdsCH', 'Ndssc', 'MLOGP', 'response']\n",
        "# read in data\n",
        "df = pd.read_csv('https://raw.githubusercontent.com/PacktWorkshops/The-Data-Science-Workshop/master/Chapter06/Dataset/qsar_fish_toxicity.csv', names=_headers, sep=';')"
      ],
      "execution_count": 0,
      "outputs": []
    },
    {
      "cell_type": "code",
      "metadata": {
        "id": "O2aKJLHFDFJc",
        "colab_type": "code",
        "colab": {
          "base_uri": "https://localhost:8080/",
          "height": 204
        },
        "outputId": "ce32da91-d461-4dc4-ac15-c02eb8d6efec"
      },
      "source": [
        "# inspect the data\n",
        "df.head()"
      ],
      "execution_count": 3,
      "outputs": [
        {
          "output_type": "execute_result",
          "data": {
            "text/html": [
              "<div>\n",
              "<style scoped>\n",
              "    .dataframe tbody tr th:only-of-type {\n",
              "        vertical-align: middle;\n",
              "    }\n",
              "\n",
              "    .dataframe tbody tr th {\n",
              "        vertical-align: top;\n",
              "    }\n",
              "\n",
              "    .dataframe thead th {\n",
              "        text-align: right;\n",
              "    }\n",
              "</style>\n",
              "<table border=\"1\" class=\"dataframe\">\n",
              "  <thead>\n",
              "    <tr style=\"text-align: right;\">\n",
              "      <th></th>\n",
              "      <th>CIC0</th>\n",
              "      <th>SM1</th>\n",
              "      <th>GATS1i</th>\n",
              "      <th>NdsCH</th>\n",
              "      <th>Ndssc</th>\n",
              "      <th>MLOGP</th>\n",
              "      <th>response</th>\n",
              "    </tr>\n",
              "  </thead>\n",
              "  <tbody>\n",
              "    <tr>\n",
              "      <th>0</th>\n",
              "      <td>3.260</td>\n",
              "      <td>0.829</td>\n",
              "      <td>1.676</td>\n",
              "      <td>0</td>\n",
              "      <td>1</td>\n",
              "      <td>1.453</td>\n",
              "      <td>3.770</td>\n",
              "    </tr>\n",
              "    <tr>\n",
              "      <th>1</th>\n",
              "      <td>2.189</td>\n",
              "      <td>0.580</td>\n",
              "      <td>0.863</td>\n",
              "      <td>0</td>\n",
              "      <td>0</td>\n",
              "      <td>1.348</td>\n",
              "      <td>3.115</td>\n",
              "    </tr>\n",
              "    <tr>\n",
              "      <th>2</th>\n",
              "      <td>2.125</td>\n",
              "      <td>0.638</td>\n",
              "      <td>0.831</td>\n",
              "      <td>0</td>\n",
              "      <td>0</td>\n",
              "      <td>1.348</td>\n",
              "      <td>3.531</td>\n",
              "    </tr>\n",
              "    <tr>\n",
              "      <th>3</th>\n",
              "      <td>3.027</td>\n",
              "      <td>0.331</td>\n",
              "      <td>1.472</td>\n",
              "      <td>1</td>\n",
              "      <td>0</td>\n",
              "      <td>1.807</td>\n",
              "      <td>3.510</td>\n",
              "    </tr>\n",
              "    <tr>\n",
              "      <th>4</th>\n",
              "      <td>2.094</td>\n",
              "      <td>0.827</td>\n",
              "      <td>0.860</td>\n",
              "      <td>0</td>\n",
              "      <td>0</td>\n",
              "      <td>1.886</td>\n",
              "      <td>5.390</td>\n",
              "    </tr>\n",
              "  </tbody>\n",
              "</table>\n",
              "</div>"
            ],
            "text/plain": [
              "    CIC0    SM1  GATS1i  NdsCH  Ndssc  MLOGP  response\n",
              "0  3.260  0.829   1.676      0      1  1.453     3.770\n",
              "1  2.189  0.580   0.863      0      0  1.348     3.115\n",
              "2  2.125  0.638   0.831      0      0  1.348     3.531\n",
              "3  3.027  0.331   1.472      1      0  1.807     3.510\n",
              "4  2.094  0.827   0.860      0      0  1.886     5.390"
            ]
          },
          "metadata": {
            "tags": []
          },
          "execution_count": 3
        }
      ]
    },
    {
      "cell_type": "code",
      "metadata": {
        "id": "vzD2Zo0lDMRm",
        "colab_type": "code",
        "colab": {}
      },
      "source": [
        "# split the dataset into train and evaluation set\n",
        "features = df.drop('response', axis=1).values\n",
        "labels = df[['response']].values\n",
        "X_train, X_eval, y_train, y_eval = train_test_split(features, labels, test_size=0.2, random_state=0)\n",
        "X_val, X_test, y_val, y_test = train_test_split(X_eval, y_eval, random_state=0)"
      ],
      "execution_count": 0,
      "outputs": []
    },
    {
      "cell_type": "code",
      "metadata": {
        "id": "8sKRCqhYDiZM",
        "colab_type": "code",
        "colab": {
          "base_uri": "https://localhost:8080/",
          "height": 34
        },
        "outputId": "adef465a-b9bb-4cd0-f801-c579693abda1"
      },
      "source": [
        "# create a linear regression model\n",
        "model = LinearRegression()\n",
        "model.fit(X_train, y_train)"
      ],
      "execution_count": 7,
      "outputs": [
        {
          "output_type": "execute_result",
          "data": {
            "text/plain": [
              "LinearRegression(copy_X=True, fit_intercept=True, n_jobs=None, normalize=False)"
            ]
          },
          "metadata": {
            "tags": []
          },
          "execution_count": 7
        }
      ]
    },
    {
      "cell_type": "code",
      "metadata": {
        "id": "KmCykWqgDvnw",
        "colab_type": "code",
        "colab": {}
      },
      "source": [
        "# use for prediction\n",
        "y_pred = model.predict(X_val)"
      ],
      "execution_count": 0,
      "outputs": []
    },
    {
      "cell_type": "code",
      "metadata": {
        "id": "OazTBfw0EBZF",
        "colab_type": "code",
        "colab": {
          "base_uri": "https://localhost:8080/",
          "height": 71
        },
        "outputId": "27e87a42-ae30-42f7-a838-a3c1c0cb2800"
      },
      "source": [
        "# import `joblib` from `sklearn.externals`\n",
        "from sklearn.externals import joblib"
      ],
      "execution_count": 9,
      "outputs": [
        {
          "output_type": "stream",
          "text": [
            "/usr/local/lib/python3.6/dist-packages/sklearn/externals/joblib/__init__.py:15: FutureWarning: sklearn.externals.joblib is deprecated in 0.21 and will be removed in 0.23. Please import this functionality directly from joblib, which can be installed with: pip install joblib. If this warning is raised when loading pickled models, you may need to re-serialize those models with scikit-learn 0.21+.\n",
            "  warnings.warn(msg, category=FutureWarning)\n"
          ],
          "name": "stderr"
        }
      ]
    },
    {
      "cell_type": "code",
      "metadata": {
        "id": "VuwtFNErETrQ",
        "colab_type": "code",
        "colab": {
          "base_uri": "https://localhost:8080/",
          "height": 34
        },
        "outputId": "5bf8444f-a355-4210-94e4-063ab72de8be"
      },
      "source": [
        "# save the model\n",
        "joblib.dump(model, './model.joblib')\n"
      ],
      "execution_count": 10,
      "outputs": [
        {
          "output_type": "execute_result",
          "data": {
            "text/plain": [
              "['./model.joblib']"
            ]
          },
          "metadata": {
            "tags": []
          },
          "execution_count": 10
        }
      ]
    },
    {
      "cell_type": "code",
      "metadata": {
        "id": "BR0JWEO-EhY2",
        "colab_type": "code",
        "colab": {}
      },
      "source": [
        "m2 = joblib.load('./model.joblib')"
      ],
      "execution_count": 0,
      "outputs": []
    },
    {
      "cell_type": "code",
      "metadata": {
        "id": "cAHrh64GFT7k",
        "colab_type": "code",
        "colab": {}
      },
      "source": [
        "# use new model for prediction\n",
        "m2_preds = m2.predict(X_val)"
      ],
      "execution_count": 0,
      "outputs": []
    },
    {
      "cell_type": "code",
      "metadata": {
        "id": "cgJ1PAA-FiyV",
        "colab_type": "code",
        "colab": {
          "base_uri": "https://localhost:8080/",
          "height": 204
        },
        "outputId": "e188a18d-87f9-4172-d254-d197d09a5969"
      },
      "source": [
        "# Compare the predictions \n",
        "ys = pd.DataFrame(dict(predicted=y_pred.reshape(-1), m2=m2_preds.reshape(-1)))\n",
        "ys.head()"
      ],
      "execution_count": 13,
      "outputs": [
        {
          "output_type": "execute_result",
          "data": {
            "text/html": [
              "<div>\n",
              "<style scoped>\n",
              "    .dataframe tbody tr th:only-of-type {\n",
              "        vertical-align: middle;\n",
              "    }\n",
              "\n",
              "    .dataframe tbody tr th {\n",
              "        vertical-align: top;\n",
              "    }\n",
              "\n",
              "    .dataframe thead th {\n",
              "        text-align: right;\n",
              "    }\n",
              "</style>\n",
              "<table border=\"1\" class=\"dataframe\">\n",
              "  <thead>\n",
              "    <tr style=\"text-align: right;\">\n",
              "      <th></th>\n",
              "      <th>predicted</th>\n",
              "      <th>m2</th>\n",
              "    </tr>\n",
              "  </thead>\n",
              "  <tbody>\n",
              "    <tr>\n",
              "      <th>0</th>\n",
              "      <td>4.155885</td>\n",
              "      <td>4.155885</td>\n",
              "    </tr>\n",
              "    <tr>\n",
              "      <th>1</th>\n",
              "      <td>6.398238</td>\n",
              "      <td>6.398238</td>\n",
              "    </tr>\n",
              "    <tr>\n",
              "      <th>2</th>\n",
              "      <td>5.183181</td>\n",
              "      <td>5.183181</td>\n",
              "    </tr>\n",
              "    <tr>\n",
              "      <th>3</th>\n",
              "      <td>3.771333</td>\n",
              "      <td>3.771333</td>\n",
              "    </tr>\n",
              "    <tr>\n",
              "      <th>4</th>\n",
              "      <td>4.593059</td>\n",
              "      <td>4.593059</td>\n",
              "    </tr>\n",
              "  </tbody>\n",
              "</table>\n",
              "</div>"
            ],
            "text/plain": [
              "   predicted        m2\n",
              "0   4.155885  4.155885\n",
              "1   6.398238  6.398238\n",
              "2   5.183181  5.183181\n",
              "3   3.771333  3.771333\n",
              "4   4.593059  4.593059"
            ]
          },
          "metadata": {
            "tags": []
          },
          "execution_count": 13
        }
      ]
    },
    {
      "cell_type": "markdown",
      "metadata": {
        "id": "xacCA5SCGRgb",
        "colab_type": "text"
      },
      "source": [
        "The predictions from the model before it was saved are exactly the same as the predicitions from the model after it was saved and loaded back in. It is safe to conclude that saving and loading models does not affect their quality."
      ]
    },
    {
      "cell_type": "code",
      "metadata": {
        "id": "5aOiWfg-GJDi",
        "colab_type": "code",
        "colab": {}
      },
      "source": [
        ""
      ],
      "execution_count": 0,
      "outputs": []
    }
  ]
}